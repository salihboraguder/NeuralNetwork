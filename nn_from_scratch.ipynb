{
 "cells": [
  {
   "cell_type": "code",
   "execution_count": 1,
   "metadata": {},
   "outputs": [],
   "source": [
    "import numpy as np"
   ]
  },
  {
   "cell_type": "code",
   "execution_count": 60,
   "metadata": {},
   "outputs": [],
   "source": [
    "class Layer:\n",
    "\n",
    "    def relu(self,X):\n",
    "        return np.maximum(0,X)\n",
    "    \n",
    "    def linear(self,X):\n",
    "        return X\n",
    "    \n",
    "    def sigmoid(self,X):\n",
    "        return 1/(1 + np.exp(-X))\n",
    "    \n",
    "    def relu_der(self,X):\n",
    "        return (X>0).astype(int)\n",
    "    \n",
    "    def sigmoid_der(self,X):\n",
    "        return self.sigmoid(X) * (1-self.sigmoid(X))\n",
    "\n",
    "    def __init__(self,unit_num,act_func,input_size) -> None:\n",
    "        \n",
    "        self.input_size = input_size\n",
    "        self.unit_num = unit_num\n",
    "        self.act_func = act_func\n",
    "        self.weights = np.random.rand(unit_num,input_size)*0.2\n",
    "        self.bias = np.zeros((unit_num,1))\n",
    "        \n",
    "\n",
    "\n",
    "\n",
    "    def forward_prop(self,inp):\n",
    "        if self.act_func == \"sigmoid\":\n",
    "            return self.sigmoid(np.dot(self.weights,inp) + self.bias)\n",
    "        \n",
    "        elif self.act_func == \"relu\":\n",
    "            return self.relu(np.dot(self.weights,inp) + self.bias)\n",
    "        \n",
    "\n",
    "    def __str__(self) -> str:\n",
    "        return f\"Layer with {self.unit_num} units and {self.act_func} activation function.\"\n",
    "        \n",
    "        \n",
    "\n",
    "\n",
    "        "
   ]
  },
  {
   "cell_type": "code",
   "execution_count": 61,
   "metadata": {},
   "outputs": [],
   "source": [
    "class NN:\n",
    "\n",
    "    def __init__(self) -> None:\n",
    "        self.layers = []\n",
    "        return None\n",
    "    def add_layer(self,input_size,activation_function,layer_size):\n",
    "\n",
    "        if (len(self.layers) == 0) or (input_size == self.layers[-1].unit_num):\n",
    "            new_layer = Layer(unit_num=layer_size,act_func = activation_function,input_size=input_size)\n",
    "            self.layers.append(new_layer)\n",
    "            print(\"Added a layer!\")\n",
    "        else:\n",
    "            raise Exception(\"Input Size don't match with the last layer's output size!\")\n",
    "\n",
    "\n",
    "\n",
    "        return None\n",
    "    \n",
    "    def __str__(self) -> str:\n",
    "\n",
    "        print(f\"Neural Network with {len(self.layers)} layers.\")\n",
    "        for layer in self.layers:\n",
    "            print(layer)\n",
    "        \n",
    "        return \"\"\n",
    "\n",
    "\n",
    "    def forward_propagation(self,X):\n",
    "        output = self.layers[0].forward_prop(X)\n",
    "\n",
    "        for i in range(1,len(self.layers)):\n",
    "            output = self.layers[i].forward_prop(output)\n",
    "            print(f\"Output of layer {i+1}:\\n{output}\")\n",
    "\n",
    "\n",
    "        return output\n",
    "    \n",
    "    #derivative of sigmoid is f(x)*(1-f(x))\n",
    "\n",
    "\n",
    "    def compute_cost(self,cost_func,Y,yhat,epsilon):\n",
    "\n",
    "        if cost_func ==\"crossentropy\":\n",
    "            #cost = -np.sum(Y*np.log(yhat+epsilon))/len(Y)\n",
    "            cost = np.sum((1-Y) * (-np.log(1-yhat + epsilon)) + Y * (-np.log(yhat + epsilon)))\n",
    "            print(cost)\n",
    "            return cost\n",
    "\n",
    "\n",
    "    \n"
   ]
  }
 ],
 "metadata": {
  "kernelspec": {
   "display_name": "Python 3.10.4 64-bit",
   "language": "python",
   "name": "python3"
  },
  "language_info": {
   "codemirror_mode": {
    "name": "ipython",
    "version": 3
   },
   "file_extension": ".py",
   "mimetype": "text/x-python",
   "name": "python",
   "nbconvert_exporter": "python",
   "pygments_lexer": "ipython3",
   "version": "3.10.12"
  },
  "orig_nbformat": 4,
  "vscode": {
   "interpreter": {
    "hash": "916dbcbb3f70747c44a77c7bcd40155683ae19c65e1c03b4aa3499c5328201f1"
   }
  }
 },
 "nbformat": 4,
 "nbformat_minor": 2
}
