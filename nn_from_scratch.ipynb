{
 "cells": [
  {
   "cell_type": "code",
   "execution_count": 11,
   "metadata": {},
   "outputs": [],
   "source": [
    "import numpy as np"
   ]
  },
  {
   "cell_type": "code",
   "execution_count": 49,
   "metadata": {},
   "outputs": [],
   "source": [
    "class Layer:\n",
    "\n",
    "    def relu(self,X):\n",
    "        return np.maximum(0,X)\n",
    "    \n",
    "    def linear(self,X):\n",
    "        return X\n",
    "    \n",
    "    def sigmoid(self,X):\n",
    "        return 1/(1 + np.exp(-X))\n",
    "\n",
    "    def __init__(self,unit_num,act_func,input_size) -> None:\n",
    "\n",
    "\n",
    "        self.input_size = input_size\n",
    "        self.unit_num = unit_num\n",
    "        self.act_func = act_func\n",
    "        self.weights = np.random.rand(unit_num,input_size)*0.2\n",
    "        self.bias = np.zeros((unit_num,1))\n",
    "\n",
    "\n",
    "\n",
    "    def forward_prop(self,inp):\n",
    "        if self.act_func == \"sigmoid\":\n",
    "            \n",
    "            linear_output = np.dot(self.weights,inp) + self.bias\n",
    "\n",
    "            activation_output = self.sigmoid(linear_output)\n",
    "\n",
    "            return linear_output,activation_output\n",
    "        \n",
    "        elif self.act_func == \"relu\":\n",
    "            linear_output = np.dot(self.weights,inp) + self.bias\n",
    "\n",
    "            activation_output = self.relu(linear_output)\n",
    "\n",
    "            return linear_output, activation_output\n",
    "\n",
    "    def __str__(self) -> str:\n",
    "        return f\"Layer with {self.unit_num} units and {self.act_func} activation function.\""
   ]
  },
  {
   "cell_type": "code",
   "execution_count": 100,
   "metadata": {},
   "outputs": [],
   "source": [
    "class NN:\n",
    "\n",
    "    def __init__(self) -> None:\n",
    "        self.layers = []\n",
    "        return None\n",
    "    \n",
    "    def add_layer(self,input_size,activation_function,layer_size):\n",
    "\n",
    "        if (len(self.layers) == 0) or (input_size == self.layers[-1].unit_num):\n",
    "            new_layer = Layer(unit_num=layer_size,act_func = activation_function,input_size=input_size)\n",
    "            self.layers.append(new_layer)\n",
    "            print(\"Added a layer!\")\n",
    "        else:\n",
    "            raise Exception(\"Input Size don't match with the last layer's output size!\")\n",
    "\n",
    "\n",
    "\n",
    "        return None\n",
    "    \n",
    "    def __str__(self) -> str:\n",
    "\n",
    "        print(f\"Neural Network with {len(self.layers)} layers.\")\n",
    "        for layer in self.layers:\n",
    "            print(layer)\n",
    "        \n",
    "        return \"\"\n",
    "\n",
    "\n",
    "    def forward_propagation(self,X):\n",
    "        caches = [self.layers[0].forward_prop(X)]\n",
    "       \n",
    "\n",
    "\n",
    "\n",
    "        for i in range(1,len(self.layers)):\n",
    "            caches.append(self.layers[i].forward_prop(caches[i-1][1]))\n",
    "            #print(f\"Output of layer {i+1}:\\n{caches[i]}\")\n",
    "            #print(f\"Shape of layer {i}: {len(caches[i])}\")\n",
    "        \n",
    "        return caches\n",
    "\n",
    "\n",
    "    def sigmoid_back(self,dA,cache):\n",
    "        Z = cache\n",
    "        s= 1/(1+np.exp(-Z))\n",
    "\n",
    "        dZ = dA * s * (1-s)\n",
    "\n",
    "        return dZ\n",
    "    \n",
    "\n",
    "    def relu_back(seld,dA,cache):\n",
    "        \n",
    "\n",
    "        Z = cache\n",
    "\n",
    "        dZ = np.copy(dA)\n",
    "\n",
    "        dZ[Z <= 0] = 0\n",
    "\n",
    "        return dZ\n",
    "\n",
    "            \n",
    "\n",
    "\n",
    "    def linear_backward(self,dZ,W,b,A_prev):\n",
    "\n",
    "        m = len(A_prev)\n",
    "\n",
    "        dW = (1/m) * np.dot(dZ,A_prev.T)\n",
    "\n",
    "        db = (1/m) * np.sum(dZ,axis=1,keepdims=True)\n",
    "\n",
    "        dA_prev = np.dot(W.T,dZ)\n",
    "\n",
    "        return dA_prev, db, dW\n",
    "    \n",
    "\n",
    "\n",
    "    def linear_activation_backward(self,dA,activation,cache,W,b):\n",
    "\n",
    "\n",
    "\n",
    "        linear_cache, activation_cache = cache\n",
    "\n",
    "        if activation == \"sigmoid\":\n",
    "            dZ = self.sigmoid_back(dA,activation_cache)\n",
    "\n",
    "            dA_prev, dW, db = self.linear_backward(dZ,W,b,linear_cache)\n",
    "\n",
    "        elif activation ==\"relu\":\n",
    "\n",
    "            dZ = self.relu_back(dA,activation_cache)\n",
    "\n",
    "            dA_prev, dW, db = self.linear_backward(dZ,W,b,linear_cache)\n",
    "        \n",
    "\n",
    "        return dA_prev, dW, db    \n",
    "    \n",
    "    \n",
    "\n",
    "\n",
    "\n",
    "    def compute_cost(self,cost_func,Y,yhat,epsilon):\n",
    "\n",
    "        if cost_func ==\"crossentropy\":\n",
    "            \n",
    "            cost = np.sum((1-Y) * (-np.log(1-yhat + epsilon)) - Y * (np.log(yhat + epsilon)))/len(Y)\n",
    "            print(cost)\n",
    "            return cost\n",
    "        \n",
    "\n",
    "    \n",
    "    \n",
    "\n",
    "\n",
    "    def backprop(self,Y,caches):\n",
    "\n",
    "\n",
    "        '''\n",
    "        AL: output of forward propagation\n",
    "        Y : true values\n",
    "        caches:evlayersery cache of \n",
    "        \n",
    "        \n",
    "        '''\n",
    "        AL = caches[-1][1]\n",
    "        grads = {}\n",
    "\n",
    "        L = len(self.layers)\n",
    "\n",
    "        m = len(Y)\n",
    "\n",
    "        dAL = - (np.divide(Y, AL) - np.divide(1 - Y, 1 - AL))\n",
    "\n",
    "\n",
    "        current_cache = caches[L-1]\n",
    "        print(self.layers[-1].weights.shape)\n",
    "\n",
    "        grads[\"dA\" + str(L-1)], grads[\"dW\" + str(L)],grads[\"db\" + str(L)] = self.linear_activation_backward(dA = dAL,\n",
    "                                                               activation=self.layers[-1].act_func,\n",
    "                                                               cache=current_cache,\n",
    "                                                               W = self.layers[-1].weights,\n",
    "                                                               b = self.layers[-1].bias)\n",
    "        \n",
    "        print(grads[\"dA\" + str(L-1)], grads[\"dW\" + str(L)],grads[\"db\" + str(L)])\n",
    "\n",
    "\n",
    "        for l in reversed(range(L-1)):\n",
    "\n",
    "            current_cache = caches[l]\n",
    "            dA_prev_temp, dW_temp, db_temp = self.linear_activation_backward(dA = grads[\"dA\" + str(l+1)],\n",
    "                                                                             activation = self.layers[l].act_func,\n",
    "                                                                             cache = current_cache,\n",
    "                                                                             W = self.layers[l].weights,\n",
    "                                                                             b = self.layers[l].bias)\n",
    "            grads[\"dA\" + str(l)] = dA_prev_temp\n",
    "            grads[\"dW\" + str(l + 1)] = dW_temp\n",
    "            grads[\"db\" + str(l + 1)] = db_temp\n",
    "\n",
    "            \n",
    "\n",
    "        return grads\n",
    "    \n",
    "\n",
    "    \n",
    "    def update_params(self,parameters,grads, alpha):\n",
    "\n",
    "        \n",
    "        '''\n",
    "        alpha: learning rate\n",
    "        '''\n",
    "        L = len(parameters) // 2 \n",
    "\n",
    "    # Update rule for each parameter\n",
    "        for l in range(self.layers):\n",
    "            self.layers[l].weight = self.layers[l].weight - alpha * grads[\"dW\" + str(l+1)]\n",
    "            self.layers[l].bias = self.layers[l].bias - alpha * grads[\"db\" + str(l+1)]\n",
    "\n",
    "        return parameters\n",
    "\n",
    "\n",
    "\n",
    "\n"
   ]
  },
  {
   "cell_type": "code",
   "execution_count": 101,
   "metadata": {},
   "outputs": [
    {
     "name": "stdout",
     "output_type": "stream",
     "text": [
      "Added a layer!\n",
      "Added a layer!\n",
      "Added a layer!\n"
     ]
    }
   ],
   "source": [
    "X = np.array([[1],[2],[3]])\n",
    "Y = np.array([[0],[0],[1]])\n",
    "\n",
    "\n",
    "deneme = NN()\n",
    "deneme.add_layer(3,\"sigmoid\",5)\n",
    "deneme.add_layer(5,\"relu\",10)\n",
    "deneme.add_layer(10,\"sigmoid\",1)"
   ]
  },
  {
   "cell_type": "code",
   "execution_count": 102,
   "metadata": {},
   "outputs": [
    {
     "name": "stdout",
     "output_type": "stream",
     "text": [
      "(1, 10)\n"
     ]
    },
    {
     "ename": "ValueError",
     "evalue": "shapes (10,1) and (3,1) not aligned: 1 (dim 1) != 3 (dim 0)",
     "output_type": "error",
     "traceback": [
      "\u001b[0;31m---------------------------------------------------------------------------\u001b[0m",
      "\u001b[0;31mValueError\u001b[0m                                Traceback (most recent call last)",
      "\u001b[1;32m/home/salihboraguder/Desktop/Github/NeuralNetwork/nn_from_scratch.ipynb Cell 5\u001b[0m in \u001b[0;36m<cell line: 1>\u001b[0;34m()\u001b[0m\n\u001b[0;32m----> <a href='vscode-notebook-cell:/home/salihboraguder/Desktop/Github/NeuralNetwork/nn_from_scratch.ipynb#W4sZmlsZQ%3D%3D?line=0'>1</a>\u001b[0m deneme\u001b[39m.\u001b[39;49mbackprop(Y,deneme\u001b[39m.\u001b[39;49mforward_propagation(X))\n",
      "\u001b[1;32m/home/salihboraguder/Desktop/Github/NeuralNetwork/nn_from_scratch.ipynb Cell 5\u001b[0m in \u001b[0;36mNN.backprop\u001b[0;34m(self, Y, caches)\u001b[0m\n\u001b[1;32m    <a href='vscode-notebook-cell:/home/salihboraguder/Desktop/Github/NeuralNetwork/nn_from_scratch.ipynb#W4sZmlsZQ%3D%3D?line=136'>137</a>\u001b[0m current_cache \u001b[39m=\u001b[39m caches[L\u001b[39m-\u001b[39m\u001b[39m1\u001b[39m]\n\u001b[1;32m    <a href='vscode-notebook-cell:/home/salihboraguder/Desktop/Github/NeuralNetwork/nn_from_scratch.ipynb#W4sZmlsZQ%3D%3D?line=137'>138</a>\u001b[0m \u001b[39mprint\u001b[39m(\u001b[39mself\u001b[39m\u001b[39m.\u001b[39mlayers[\u001b[39m-\u001b[39m\u001b[39m1\u001b[39m]\u001b[39m.\u001b[39mweights\u001b[39m.\u001b[39mshape)\n\u001b[0;32m--> <a href='vscode-notebook-cell:/home/salihboraguder/Desktop/Github/NeuralNetwork/nn_from_scratch.ipynb#W4sZmlsZQ%3D%3D?line=139'>140</a>\u001b[0m grads[\u001b[39m\"\u001b[39m\u001b[39mdA\u001b[39m\u001b[39m\"\u001b[39m \u001b[39m+\u001b[39m \u001b[39mstr\u001b[39m(L\u001b[39m-\u001b[39m\u001b[39m1\u001b[39m)], grads[\u001b[39m\"\u001b[39m\u001b[39mdW\u001b[39m\u001b[39m\"\u001b[39m \u001b[39m+\u001b[39m \u001b[39mstr\u001b[39m(L)],grads[\u001b[39m\"\u001b[39m\u001b[39mdb\u001b[39m\u001b[39m\"\u001b[39m \u001b[39m+\u001b[39m \u001b[39mstr\u001b[39m(L)] \u001b[39m=\u001b[39m \u001b[39mself\u001b[39;49m\u001b[39m.\u001b[39;49mlinear_activation_backward(dA \u001b[39m=\u001b[39;49m dAL,\n\u001b[1;32m    <a href='vscode-notebook-cell:/home/salihboraguder/Desktop/Github/NeuralNetwork/nn_from_scratch.ipynb#W4sZmlsZQ%3D%3D?line=140'>141</a>\u001b[0m                                                        activation\u001b[39m=\u001b[39;49m\u001b[39mself\u001b[39;49m\u001b[39m.\u001b[39;49mlayers[\u001b[39m-\u001b[39;49m\u001b[39m1\u001b[39;49m]\u001b[39m.\u001b[39;49mact_func,\n\u001b[1;32m    <a href='vscode-notebook-cell:/home/salihboraguder/Desktop/Github/NeuralNetwork/nn_from_scratch.ipynb#W4sZmlsZQ%3D%3D?line=141'>142</a>\u001b[0m                                                        cache\u001b[39m=\u001b[39;49mcurrent_cache,\n\u001b[1;32m    <a href='vscode-notebook-cell:/home/salihboraguder/Desktop/Github/NeuralNetwork/nn_from_scratch.ipynb#W4sZmlsZQ%3D%3D?line=142'>143</a>\u001b[0m                                                        W \u001b[39m=\u001b[39;49m \u001b[39mself\u001b[39;49m\u001b[39m.\u001b[39;49mlayers[\u001b[39m-\u001b[39;49m\u001b[39m1\u001b[39;49m]\u001b[39m.\u001b[39;49mweights,\n\u001b[1;32m    <a href='vscode-notebook-cell:/home/salihboraguder/Desktop/Github/NeuralNetwork/nn_from_scratch.ipynb#W4sZmlsZQ%3D%3D?line=143'>144</a>\u001b[0m                                                        b \u001b[39m=\u001b[39;49m \u001b[39mself\u001b[39;49m\u001b[39m.\u001b[39;49mlayers[\u001b[39m-\u001b[39;49m\u001b[39m1\u001b[39;49m]\u001b[39m.\u001b[39;49mbias)\n\u001b[1;32m    <a href='vscode-notebook-cell:/home/salihboraguder/Desktop/Github/NeuralNetwork/nn_from_scratch.ipynb#W4sZmlsZQ%3D%3D?line=145'>146</a>\u001b[0m \u001b[39mprint\u001b[39m(grads[\u001b[39m\"\u001b[39m\u001b[39mdA\u001b[39m\u001b[39m\"\u001b[39m \u001b[39m+\u001b[39m \u001b[39mstr\u001b[39m(L\u001b[39m-\u001b[39m\u001b[39m1\u001b[39m)], grads[\u001b[39m\"\u001b[39m\u001b[39mdW\u001b[39m\u001b[39m\"\u001b[39m \u001b[39m+\u001b[39m \u001b[39mstr\u001b[39m(L)],grads[\u001b[39m\"\u001b[39m\u001b[39mdb\u001b[39m\u001b[39m\"\u001b[39m \u001b[39m+\u001b[39m \u001b[39mstr\u001b[39m(L)])\n\u001b[1;32m    <a href='vscode-notebook-cell:/home/salihboraguder/Desktop/Github/NeuralNetwork/nn_from_scratch.ipynb#W4sZmlsZQ%3D%3D?line=148'>149</a>\u001b[0m \u001b[39mfor\u001b[39;00m l \u001b[39min\u001b[39;00m \u001b[39mreversed\u001b[39m(\u001b[39mrange\u001b[39m(L\u001b[39m-\u001b[39m\u001b[39m1\u001b[39m)):\n",
      "\u001b[1;32m/home/salihboraguder/Desktop/Github/NeuralNetwork/nn_from_scratch.ipynb Cell 5\u001b[0m in \u001b[0;36mNN.linear_activation_backward\u001b[0;34m(self, dA, activation, cache, W, b)\u001b[0m\n\u001b[1;32m     <a href='vscode-notebook-cell:/home/salihboraguder/Desktop/Github/NeuralNetwork/nn_from_scratch.ipynb#W4sZmlsZQ%3D%3D?line=85'>86</a>\u001b[0m \u001b[39mif\u001b[39;00m activation \u001b[39m==\u001b[39m \u001b[39m\"\u001b[39m\u001b[39msigmoid\u001b[39m\u001b[39m\"\u001b[39m:\n\u001b[1;32m     <a href='vscode-notebook-cell:/home/salihboraguder/Desktop/Github/NeuralNetwork/nn_from_scratch.ipynb#W4sZmlsZQ%3D%3D?line=86'>87</a>\u001b[0m     dZ \u001b[39m=\u001b[39m \u001b[39mself\u001b[39m\u001b[39m.\u001b[39msigmoid_back(dA,activation_cache)\n\u001b[0;32m---> <a href='vscode-notebook-cell:/home/salihboraguder/Desktop/Github/NeuralNetwork/nn_from_scratch.ipynb#W4sZmlsZQ%3D%3D?line=88'>89</a>\u001b[0m     dA_prev, dW, db \u001b[39m=\u001b[39m \u001b[39mself\u001b[39;49m\u001b[39m.\u001b[39;49mlinear_backward(dZ,W,b,linear_cache)\n\u001b[1;32m     <a href='vscode-notebook-cell:/home/salihboraguder/Desktop/Github/NeuralNetwork/nn_from_scratch.ipynb#W4sZmlsZQ%3D%3D?line=90'>91</a>\u001b[0m \u001b[39melif\u001b[39;00m activation \u001b[39m==\u001b[39m\u001b[39m\"\u001b[39m\u001b[39mrelu\u001b[39m\u001b[39m\"\u001b[39m:\n\u001b[1;32m     <a href='vscode-notebook-cell:/home/salihboraguder/Desktop/Github/NeuralNetwork/nn_from_scratch.ipynb#W4sZmlsZQ%3D%3D?line=92'>93</a>\u001b[0m     dZ \u001b[39m=\u001b[39m \u001b[39mself\u001b[39m\u001b[39m.\u001b[39mrelu_back(dA,activation_cache)\n",
      "\u001b[1;32m/home/salihboraguder/Desktop/Github/NeuralNetwork/nn_from_scratch.ipynb Cell 5\u001b[0m in \u001b[0;36mNN.linear_backward\u001b[0;34m(self, dZ, W, b, A_prev)\u001b[0m\n\u001b[1;32m     <a href='vscode-notebook-cell:/home/salihboraguder/Desktop/Github/NeuralNetwork/nn_from_scratch.ipynb#W4sZmlsZQ%3D%3D?line=69'>70</a>\u001b[0m dW \u001b[39m=\u001b[39m (\u001b[39m1\u001b[39m\u001b[39m/\u001b[39mm) \u001b[39m*\u001b[39m np\u001b[39m.\u001b[39mdot(dZ,A_prev\u001b[39m.\u001b[39mT)\n\u001b[1;32m     <a href='vscode-notebook-cell:/home/salihboraguder/Desktop/Github/NeuralNetwork/nn_from_scratch.ipynb#W4sZmlsZQ%3D%3D?line=71'>72</a>\u001b[0m db \u001b[39m=\u001b[39m (\u001b[39m1\u001b[39m\u001b[39m/\u001b[39mm) \u001b[39m*\u001b[39m np\u001b[39m.\u001b[39msum(dZ,axis\u001b[39m=\u001b[39m\u001b[39m1\u001b[39m,keepdims\u001b[39m=\u001b[39m\u001b[39mTrue\u001b[39;00m)\n\u001b[0;32m---> <a href='vscode-notebook-cell:/home/salihboraguder/Desktop/Github/NeuralNetwork/nn_from_scratch.ipynb#W4sZmlsZQ%3D%3D?line=73'>74</a>\u001b[0m dA_prev \u001b[39m=\u001b[39m np\u001b[39m.\u001b[39;49mdot(W\u001b[39m.\u001b[39;49mT,dZ)\n\u001b[1;32m     <a href='vscode-notebook-cell:/home/salihboraguder/Desktop/Github/NeuralNetwork/nn_from_scratch.ipynb#W4sZmlsZQ%3D%3D?line=75'>76</a>\u001b[0m \u001b[39mreturn\u001b[39;00m dA_prev, db, dW\n",
      "File \u001b[0;32m<__array_function__ internals>:200\u001b[0m, in \u001b[0;36mdot\u001b[0;34m(*args, **kwargs)\u001b[0m\n",
      "\u001b[0;31mValueError\u001b[0m: shapes (10,1) and (3,1) not aligned: 1 (dim 1) != 3 (dim 0)"
     ]
    }
   ],
   "source": [
    "deneme.backprop(Y,deneme.forward_propagation(X))"
   ]
  },
  {
   "cell_type": "code",
   "execution_count": null,
   "metadata": {},
   "outputs": [],
   "source": []
  },
  {
   "cell_type": "code",
   "execution_count": 88,
   "metadata": {},
   "outputs": [
    {
     "data": {
      "text/plain": [
       "3"
      ]
     },
     "execution_count": 88,
     "metadata": {},
     "output_type": "execute_result"
    }
   ],
   "source": [
    "len(deneme.forward_propagation(X))"
   ]
  },
  {
   "cell_type": "code",
   "execution_count": 93,
   "metadata": {},
   "outputs": [
    {
     "name": "stdout",
     "output_type": "stream",
     "text": [
      "1\n",
      "0\n"
     ]
    }
   ],
   "source": [
    "for i in reversed(range(2)):\n",
    "    print(i)"
   ]
  },
  {
   "cell_type": "code",
   "execution_count": null,
   "metadata": {},
   "outputs": [],
   "source": []
  }
 ],
 "metadata": {
  "kernelspec": {
   "display_name": "Python 3.10.4 64-bit",
   "language": "python",
   "name": "python3"
  },
  "language_info": {
   "codemirror_mode": {
    "name": "ipython",
    "version": 3
   },
   "file_extension": ".py",
   "mimetype": "text/x-python",
   "name": "python",
   "nbconvert_exporter": "python",
   "pygments_lexer": "ipython3",
   "version": "3.10.12"
  },
  "orig_nbformat": 4,
  "vscode": {
   "interpreter": {
    "hash": "916dbcbb3f70747c44a77c7bcd40155683ae19c65e1c03b4aa3499c5328201f1"
   }
  }
 },
 "nbformat": 4,
 "nbformat_minor": 2
}
